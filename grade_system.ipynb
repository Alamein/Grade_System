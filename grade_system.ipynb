{
 "cells": [
  {
   "cell_type": "markdown",
   "metadata": {},
   "source": [
    "# This Programming will be getting update time by time."
   ]
  },
  {
   "cell_type": "code",
   "execution_count": 1,
   "metadata": {},
   "outputs": [],
   "source": [
    "A_SCORE = 70\n",
    "B_SCORE = 60\n",
    "C_SCORE = 50\n",
    "D_SCORE = 40\n",
    "E_SCORE = 30"
   ]
  },
  {
   "cell_type": "code",
   "execution_count": null,
   "metadata": {},
   "outputs": [],
   "source": [
    "# GET SCORE FROM THE USER\n",
    "Eng_Score = int(input('What is Your English Score? '))\n",
    "Mth_Score = int(input('What is your Mathematics Score? '))\n",
    "Phy_Score = int(input('What is your Physics Score? '))\n",
    "Chm_Score = int(input('What is your Chemistry Score? '))\n",
    "Bio_Score = int(input('What is your Biology Score? '))"
   ]
  },
  {
   "cell_type": "code",
   "execution_count": null,
   "metadata": {},
   "outputs": [],
   "source": [
    "# THE RESULT\n",
    "\n",
    "# ENGLISH\n",
    "\n",
    "if Eng_Score >= A_SCORE:\n",
    "    print('Your English Grade is A.')\n",
    "elif Eng_Score >= B_SCORE:\n",
    "    print('Your English Grade is B.')\n",
    "elif Eng_Score >= C_SCORE:\n",
    "    print('Your English Grade is C.')\n",
    "elif Eng_Score >= D_SCORE:\n",
    "    print('Your English Grade is D.')\n",
    "elif Eng_Score >= E_SCORE:\n",
    "    print('Your English Grade is E.')\n",
    "else:\n",
    "    print('Your English Grade is F.')"
   ]
  },
  {
   "cell_type": "code",
   "execution_count": null,
   "metadata": {},
   "outputs": [],
   "source": [
    "# MATHEMATICS\n",
    "\n",
    "if Mth_Score >= A_SCORE:\n",
    "    print('Your Mathematics Grade is A.')\n",
    "elif Mth_Score >= B_SCORE:\n",
    "    print('Your Mathematics Grade is B.')\n",
    "elif Mth_Score >= C_SCORE:\n",
    "    print('Your Mathematics Grade is C.')\n",
    "elif Mth_Score >= D_SCORE:\n",
    "    print('Your Mathematics Grade is D.')\n",
    "elif Mth_Score >= E_SCORE:\n",
    "    print('Your Mathematics Grade is E.')\n",
    "else:\n",
    "    print('Your Mathematics Grade is F.')"
   ]
  }
 ],
 "metadata": {
  "interpreter": {
   "hash": "b3ba2566441a7c06988d0923437866b63cedc61552a5af99d1f4fb67d367b25f"
  },
  "kernelspec": {
   "display_name": "Python 3.9.13 ('base')",
   "language": "python",
   "name": "python3"
  },
  "language_info": {
   "codemirror_mode": {
    "name": "ipython",
    "version": 3
   },
   "file_extension": ".py",
   "mimetype": "text/x-python",
   "name": "python",
   "nbconvert_exporter": "python",
   "pygments_lexer": "ipython3",
   "version": "3.11.5"
  },
  "orig_nbformat": 4
 },
 "nbformat": 4,
 "nbformat_minor": 2
}
