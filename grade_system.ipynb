{
 "cells": [
  {
   "cell_type": "markdown",
   "metadata": {},
   "source": [
    "# This Programming will be getting update time by time."
   ]
  },
  {
   "cell_type": "code",
   "execution_count": 1,
   "metadata": {},
   "outputs": [],
   "source": [
    "A_SCORE = 70\n",
    "B_SCORE = 60\n",
    "C_SCORE = 50\n",
    "D_SCORE = 40\n",
    "E_SCORE = 30"
   ]
  },
  {
   "cell_type": "code",
   "execution_count": null,
   "metadata": {},
   "outputs": [],
   "source": [
    "# GET SCORE FROM THE USER\n",
    "Eng_Score = int(input('What is Your English Score? '))\n",
    "Mth_Score = int(input('What is your Mathematics Score? '))\n",
    "Phy_Score = int(input('What is your Physics Score? '))\n",
    "Chm_Score = int(input('What is your Chemistry Score? '))\n",
    "Bio_Score = int(input('What is your Biology Score? '))"
   ]
  }
 ],
 "metadata": {
  "interpreter": {
   "hash": "b3ba2566441a7c06988d0923437866b63cedc61552a5af99d1f4fb67d367b25f"
  },
  "kernelspec": {
   "display_name": "Python 3.9.13 ('base')",
   "language": "python",
   "name": "python3"
  },
  "language_info": {
   "codemirror_mode": {
    "name": "ipython",
    "version": 3
   },
   "file_extension": ".py",
   "mimetype": "text/x-python",
   "name": "python",
   "nbconvert_exporter": "python",
   "pygments_lexer": "ipython3",
   "version": "3.11.5"
  },
  "orig_nbformat": 4
 },
 "nbformat": 4,
 "nbformat_minor": 2
}
